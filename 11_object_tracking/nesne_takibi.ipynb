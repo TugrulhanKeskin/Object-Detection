{
 "cells": [
  {
   "cell_type": "markdown",
   "metadata": {},
   "source": [
    "# <p><center> Nesne Takibi</center></p>\n",
    "- Nesne izleme algoritması, görüntüde tanımlanan her nesneye bir kimlik atar ve sonraki çerçevelerde, bu kimliği geçmeye ve aynı nesnenin yeni konumunu belirlemeye çalışır\n",
    "### Nesne Takibi Zorlukları\n",
    "- Yeniden tanımlama - bir çerçevedeki bir nesneyi sonraki çerçevelerde aynı nesneye bağlama/ilişkilendirme\n",
    "- Görünme ve kaybolma - nesneler karenin içine veya dışına tahmin edilemeyecek şekilde hareket edebilir ve bunları daha önce videoda görülen nesnelere bağlamamız gerekir.\n",
    "- Tıkanma/Bloklama - diğer nesneler önlerinde göründüğünden ve onları örttüğünden bazı çerçelerde nesneler kısmen veya tamamen tıkanmıştır.\n",
    "- Kimlik anahtarları - iki nesne birbiriyle kesiştiğinde, hangisinin hangisi olduğunu analamamız gerekir.\n",
    "- Hareket bulanıklılığı - nesneler kendi hareketleri veya kamera hareketleri nedeniyle bulanıklaşabilir.\n",
    "- Bakış noktaları - nesneler farklı bakış açılarından çok farklı görünebilir ve aynı nesneyi tüm perspektiflerden tutarlı bir şekilde tanımlamamız gerekir.\n",
    "- Değişimi ölçekle - bir videodaki nesnelerin ölçeği önemli ölçüde değişebilir, örneğin kamera yakınlaşması veya uzaklaşması.\n",
    "- Aydınlatma - Videodaki ışık değişkenleri, nesnelerin nasıl göründüğü üzerinde büyük bir etkiye sahip olabilir ve onları tutarlı bir şekilde algılamayı zorlaştırabilir."
   ]
  },
  {
   "cell_type": "markdown",
   "metadata": {},
   "source": [
    "## <p><center> Ortalama Kayma Algoritması </center></p>\n",
    "- Meanshift(Ortalama Kayma), noktaları moda doğru kaydırarak veri noktalarını kümelere yinelemeli olarak atayan bir kümeleme algoritmasıdır.\n",
    "- Mod, en yüksek veri noktası yoğunluğu olarak tanımalanabilir. Bu nedenle, mod arama algoritması olarak da bilinir."
   ]
  },
  {
   "cell_type": "code",
   "execution_count": 1,
   "metadata": {},
   "outputs": [],
   "source": [
    "import cv2\n",
    "import numpy as np\n",
    "import time "
   ]
  },
  {
   "cell_type": "code",
   "execution_count": 2,
   "metadata": {},
   "outputs": [],
   "source": [
    "# video aktar \n",
    "video = \"face.mp4\"\n",
    "cap = cv2.VideoCapture(video)\n",
    "\n",
    "# Bir tane frame oku\n",
    "ret, frame = cap.read()\n",
    "\n",
    "frame_width = int(cap.get(3))\n",
    "frame_height = int(cap.get(4))\n",
    "size = (frame_width, frame_height)\n",
    "\n",
    "if ret == False:\n",
    "    print(\"video yüklenmedi\")\n",
    "    exit()\n",
    "\n",
    "# Detection \n",
    "face_cascade = cv2.CascadeClassifier(\"haarcascade_frontalface_default.xml\")\n",
    "face_rects = face_cascade.detectMultiScale(frame)\n",
    "\n",
    "(face_x, face_y, w, h) = tuple(face_rects[0])\n",
    "\n",
    "# meanshift algoritması girdisi\n",
    "track_window = (face_x, face_y, w, h) \n",
    "\n",
    "# ROI: Region of Interest : Tespit ettiğimiz kutunun içindeki alan = face\n",
    "roi = frame[face_y:face_y+h, face_x:face_x+w]\n",
    "\n",
    "hsv_roi = cv2.cvtColor(roi, cv2.COLOR_BGR2HSV)\n",
    "\n",
    "# Histogram oluştur\n",
    "roi_hist = cv2.calcHist([hsv_roi], [0], None, [180], [0,180]) #Takip için histogram gerekli \n",
    "cv2.normalize(roi_hist, roi_hist, 0, 255, cv2.NORM_MINMAX) # Normalizasyon\n",
    "\n",
    "# takip için gerekli durdurma kriterleri\n",
    "# count = hesaplanacak maksimum iterasyon sayısı \n",
    "# eps = iterasyon sonunda maksimum değişim değeri\n",
    "term_crit = (cv2.TERM_CRITERIA_EPS | cv2.TERM_CRITERIA_COUNT, 5, 1)\n",
    "\n",
    "# Video kaydı için\n",
    "writer = cv2.VideoWriter(\"video_kaydi.mp4\", cv2.VideoWriter_fourcc(*\"mp4v\"),20, size)\n",
    "\n",
    "# Takip\n",
    "while True:\n",
    "    ret, frame = cap.read()\n",
    "    if ret == False:\n",
    "        break\n",
    "    hsv = cv2.cvtColor(frame, cv2.COLOR_BGR2HSV)\n",
    "    # meanshift algoritması\n",
    "    dst = cv2.calcBackProject([hsv], [0], roi_hist, [0,180], 1) # ROI histogramı ile frame histogramı piksel karşılaştırılır\n",
    "    ret, track_window = cv2.meanShift(dst, track_window, term_crit)\n",
    "    \n",
    "    x,y,w,h = track_window\n",
    "    img = cv2.rectangle(frame, (x,y), (x+w, y+h), (0,255,0), 5)\n",
    "    \n",
    "    time.sleep(0.01)\n",
    "    cv2.imshow(\"Frame\", frame)\n",
    "\n",
    "    # kaydetme\n",
    "    writer.write(frame)\n",
    "\n",
    "    if cv2.waitKey(1) & 0xFF == ord(\"q\"):\n",
    "        break\n",
    "\n",
    "cap.release()\n",
    "writer.release()\n",
    "cv2.destroyAllWindows()"
   ]
  }
 ],
 "metadata": {
  "kernelspec": {
   "display_name": "Python 3.10.6 64-bit",
   "language": "python",
   "name": "python3"
  },
  "language_info": {
   "codemirror_mode": {
    "name": "ipython",
    "version": 3
   },
   "file_extension": ".py",
   "mimetype": "text/x-python",
   "name": "python",
   "nbconvert_exporter": "python",
   "pygments_lexer": "ipython3",
   "version": "3.10.6"
  },
  "orig_nbformat": 4,
  "vscode": {
   "interpreter": {
    "hash": "916dbcbb3f70747c44a77c7bcd40155683ae19c65e1c03b4aa3499c5328201f1"
   }
  }
 },
 "nbformat": 4,
 "nbformat_minor": 2
}
