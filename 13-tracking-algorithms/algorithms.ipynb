{
 "cells": [
  {
   "cell_type": "markdown",
   "metadata": {},
   "source": [
    "# Takip Algoritmaları \n",
    "- BOOSTING Takip Algoritması \n",
    "- TLD (Tracking, learning and detection) Takip Algoritması\n",
    "- MOSSE (Minimum Output Sum of Squared Error) Takip Algoritması\n",
    "- CSRT Takip Algoritması\n",
    "- KCF (Kernelized Correlation Filters) Takip Algoritması\n",
    "- MIL (Multiple Instance Learning) Takip Algoritması"
   ]
  },
  {
   "cell_type": "markdown",
   "metadata": {},
   "source": [
    "## BOOSTING Takip Algoritması\n",
    "- AdaBoost'un çevrimiçi bir sürümüne dayanmaktadır\n",
    "- Bu sınıflandırıcı, nesnenin olumlu ve olumsuz örnekleriyle çalışma zamanında eğitilmelidir.\n",
    "- Kullanıcı(veya başka bir nesne algılama algoritması) tarafından sağlanan ilk sınırlayıcı kutu, nesne için olumlu bir örnek olarak alınır ve sınırlayıcı kutnun dışındaki birçok görüntü yaması arka plan olarak kabul edilir.\n",
    "- Yeni bir çerçeve verildiğinde, sınıflandırıcı, önceki konumun çevresindeki her piksel üzerinde çalıştırılır ve sınıflandırıcının puanı kayıt edilir.\n",
    "- Nesnenin yeni konumu, paunın maksimum olduğu yerdir."
   ]
  },
  {
   "cell_type": "code",
   "execution_count": 7,
   "metadata": {},
   "outputs": [
    {
     "ename": "AttributeError",
     "evalue": "module 'cv2' has no attribute 'TrackerCSRT_create'",
     "output_type": "error",
     "traceback": [
      "\u001b[0;31m---------------------------------------------------------------------------\u001b[0m",
      "\u001b[0;31mAttributeError\u001b[0m                            Traceback (most recent call last)",
      "Cell \u001b[0;32mIn [7], line 8\u001b[0m\n\u001b[1;32m      5\u001b[0m \u001b[39mimport\u001b[39;00m \u001b[39mpandas\u001b[39;00m \u001b[39mas\u001b[39;00m \u001b[39mpd\u001b[39;00m\n\u001b[1;32m      7\u001b[0m \u001b[39m# Takip algoritmalarının OpenCV deki isimleri\u001b[39;00m\n\u001b[0;32m----> 8\u001b[0m OPENCV_OBJECT_TRACKERS \u001b[39m=\u001b[39m {\u001b[39m\"\u001b[39m\u001b[39mcsrt\u001b[39m\u001b[39m\"\u001b[39m: cv2\u001b[39m.\u001b[39mTrackerCSRT_create,\n\u001b[1;32m      9\u001b[0m                             \u001b[39m\"\u001b[39m\u001b[39mkcf\u001b[39m\u001b[39m\"\u001b[39m: cv2\u001b[39m.\u001b[39mT\u001b[39m.\u001b[39mrackerKCF_create,   \n\u001b[1;32m     10\u001b[0m                             \u001b[39m\"\u001b[39m\u001b[39mboosting\u001b[39m\u001b[39m\"\u001b[39m: cv2\u001b[39m.\u001b[39mTrackerBoosting_create,\n\u001b[1;32m     11\u001b[0m                             \u001b[39m\"\u001b[39m\u001b[39mmil\u001b[39m\u001b[39m\"\u001b[39m: cv2\u001b[39m.\u001b[39mTrackerMIL_create,\n\u001b[1;32m     12\u001b[0m                             \u001b[39m\"\u001b[39m\u001b[39mtld\u001b[39m\u001b[39m\"\u001b[39m: cv2\u001b[39m.\u001b[39mTrackerTLD_create,\n\u001b[1;32m     13\u001b[0m                             \u001b[39m\"\u001b[39m\u001b[39mmedianflow\u001b[39m\u001b[39m\"\u001b[39m: cv2\u001b[39m.\u001b[39mTrackerMedianFlow_create,\n\u001b[1;32m     14\u001b[0m                             \u001b[39m\"\u001b[39m\u001b[39mmosse\u001b[39m\u001b[39m\"\u001b[39m: cv2\u001b[39m.\u001b[39mTrackerMOSSE_create}\n",
      "\u001b[0;31mAttributeError\u001b[0m: module 'cv2' has no attribute 'TrackerCSRT_create'"
     ]
    }
   ],
   "source": [
    "import cv2\n",
    "import numpy as np\n",
    "import matplotlib.pyplot as plt\n",
    "import time \n",
    "import pandas as pd\n",
    "\n",
    "# Takip algoritmalarının OpenCV deki isimleri\n",
    "OPENCV_OBJECT_TRACKERS = {\"csrt\": cv2.TrackerCSRT_create,\n",
    "                            \"kcf\": cv2.T.rackerKCF_create,   \n",
    "                            \"boosting\": cv2.TrackerBoosting_create,\n",
    "                            \"mil\": cv2.TrackerMIL_create,\n",
    "                            \"tld\": cv2.TrackerTLD_create,\n",
    "                            \"medianflow\": cv2.TrackerMedianFlow_create,\n",
    "                            \"mosse\": cv2.TrackerMOSSE_create}"
   ]
  },
  {
   "cell_type": "code",
   "execution_count": null,
   "metadata": {},
   "outputs": [],
   "source": []
  },
  {
   "cell_type": "code",
   "execution_count": null,
   "metadata": {},
   "outputs": [],
   "source": []
  }
 ],
 "metadata": {
  "kernelspec": {
   "display_name": "Python 3.10.6 64-bit",
   "language": "python",
   "name": "python3"
  },
  "language_info": {
   "codemirror_mode": {
    "name": "ipython",
    "version": 3
   },
   "file_extension": ".py",
   "mimetype": "text/x-python",
   "name": "python",
   "nbconvert_exporter": "python",
   "pygments_lexer": "ipython3",
   "version": "3.10.6"
  },
  "orig_nbformat": 4,
  "vscode": {
   "interpreter": {
    "hash": "916dbcbb3f70747c44a77c7bcd40155683ae19c65e1c03b4aa3499c5328201f1"
   }
  }
 },
 "nbformat": 4,
 "nbformat_minor": 2
}
