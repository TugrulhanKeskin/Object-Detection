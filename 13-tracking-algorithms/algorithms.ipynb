{
 "cells": [
  {
   "cell_type": "markdown",
   "metadata": {},
   "source": [
    "# Takip Algoritmaları \n",
    "- BOOSTING Takip Algoritması \n",
    "- TLD (Tracking, learning and detection) Takip Algoritması\n",
    "- MOSSE (Minimum Output Sum of Squared Error) Takip Algoritması\n",
    "- CSRT Takip Algoritması\n",
    "- KCF (Kernelized Correlation Filters) Takip Algoritması\n",
    "- MIL (Multiple Instance Learning) Takip Algoritması"
   ]
  },
  {
   "cell_type": "markdown",
   "metadata": {},
   "source": [
    "## BOOSTING Takip Algoritması\n",
    "- AdaBoost'un çevrimiçi bir sürümüne dayanmaktadır\n",
    "- Bu sınıflandırıcı, nesnenin olumlu ve olumsuz örnekleriyle çalışma zamanında eğitilmelidir.\n",
    "- Kullanıcı(veya başka bir nesne algılama algoritması) tarafından sağlanan ilk sınırlayıcı kutu, nesne için olumlu bir örnek olarak alınır ve sınırlayıcı kutnun dışındaki birçok görüntü yaması arka plan olarak kabul edilir.\n",
    "- Yeni bir çerçeve verildiğinde, sınıflandırıcı, önceki konumun çevresindeki her piksel üzerinde çalıştırılır ve sınıflandırıcının puanı kayıt edilir.\n",
    "- Nesnenin yeni konumu, paunın maksimum olduğu yerdir."
   ]
  },
  {
   "cell_type": "code",
   "execution_count": 1,
   "metadata": {},
   "outputs": [
    {
     "name": "stdout",
     "output_type": "stream",
     "text": [
      "<legacy_TrackerBoosting 0x7fd693387f30>\n"
     ]
    }
   ],
   "source": [
    "import cv2\n",
    "import numpy as np\n",
    "import matplotlib.pyplot as plt\n",
    "import time \n",
    "import pandas as pd\n",
    "\n",
    "OPENCV_OBJECT_TRACKERS =   {\"csrt\" : cv2.TrackerCSRT_create,\n",
    "                            \"kcf\" : cv2.TrackerKCF_create,\n",
    "                            \"boosting\" : cv2.legacy.TrackerBoosting_create,\n",
    "                            \"mil\" : cv2.TrackerMIL_create,\n",
    "                            \"tld\" : cv2.legacy.TrackerTLD_create,\n",
    "                            \"medianflow\" : cv2.legacy.TrackerMedianFlow_create,\n",
    "                            \"mosse\" : cv2.legacy.TrackerMOSSE_create}\n",
    "\n",
    "tracker_name = \"boosting\"\n",
    "tracker = OPENCV_OBJECT_TRACKERS[tracker_name]()\n",
    "print(tracker)"
   ]
  },
  {
   "cell_type": "code",
   "execution_count": 7,
   "metadata": {},
   "outputs": [],
   "source": [
    "# grand truth aktarılması \n",
    "gt = pd.read_csv(\"gt_new.txt\")\n",
    "# video aktarılması\n",
    "video = cv2.VideoCapture(\"MOT17-13-SDP.mp4\")"
   ]
  },
  {
   "cell_type": "code",
   "execution_count": 13,
   "metadata": {},
   "outputs": [],
   "source": [
    "initBB = None \n",
    "fps = 25 \n",
    "frame_number =[]\n",
    "f = 0\n",
    "succes_track_frame_succes = 0 \n",
    "start_time = time.time()\n",
    "\n",
    "# video kayıt için video writer\n",
    "writer = cv2.VideoWriter('boosting.mp4', cv2.VideoWriter_fourcc(*'mp4v'), 25, (960, 540))\n",
    "\n",
    "while True:\n",
    "    ret, frame = video.read()\n",
    "    if ret :\n",
    "        frame = cv2.resize(frame, (960, 540))\n",
    "        (H, W) = frame.shape[:2]\n",
    "\n",
    "        #gt \n",
    "        car_gt = gt[gt.frame_no == f]\n",
    "        if len(car_gt) != 0:\n",
    "            x = car_gt.x.values[0]\n",
    "            y = car_gt.y.values[0]\n",
    "            w = car_gt.w.values[0]\n",
    "            h = car_gt.h.values[0]\n",
    "\n",
    "            center_x = car_gt.center_x.values[0]\n",
    "            center_y = car_gt.center_y.values[0]\n",
    "\n",
    "            cv2.rectangle(frame, (x,y), (x+w, y+h), (0,255,0), 2)\n",
    "            cv2.circle(frame, (center_x, center_y), 2, (0,255,255), -1)\n",
    "\n",
    "            time.sleep(0.01)\n",
    "            # video kayıt\n",
    "            writer.write(frame)   \n",
    "\n",
    "            frame_number.append(f)\n",
    "            f = f + 1\n",
    "    else :\n",
    "        break\n",
    "\n",
    "writer.release()       \n",
    "            \n",
    "\n"
   ]
  },
  {
   "cell_type": "code",
   "execution_count": 5,
   "metadata": {},
   "outputs": [],
   "source": [
    "import cv2\n",
    "\n",
    "tracker_types = ['BOOSTING', 'MIL','KCF', 'TLD', 'MEDIANFLOW', 'GOTURN', 'MOSSE', 'CSRT']\n",
    "tracker_type = tracker_types[0]\n",
    "\n",
    "if tracker_type == 'BOOSTING':\n",
    "    tracker = cv2.legacy.TrackerBoosting_create()\n",
    "if tracker_type == 'MIL':\n",
    "    tracker = cv2.TrackerMIL_create() \n",
    "if tracker_type == 'KCF':\n",
    "    tracker = cv2.TrackerKCF_create() \n",
    "if tracker_type == 'TLD':\n",
    "    tracker = cv2.legacy.TrackerTLD_create() \n",
    "if tracker_type == 'MEDIANFLOW':\n",
    "    tracker = cv2.legacy.TrackerMedianFlow_create() \n",
    "if tracker_type == 'MOSSE':\n",
    "    tracker = cv2.legacy.TrackerMOSSE_create()\n",
    "if tracker_type == \"CSRT\":\n",
    "    tracker = cv2.TrackerCSRT_create()"
   ]
  },
  {
   "cell_type": "code",
   "execution_count": 6,
   "metadata": {},
   "outputs": [
    {
     "name": "stdout",
     "output_type": "stream",
     "text": [
      "Select a ROI and then press SPACE or ENTER button!\n",
      "Cancel the selection process by pressing c button!\n"
     ]
    },
    {
     "ename": "error",
     "evalue": "OpenCV(4.5.5) /io/opencv/modules/imgproc/src/resize.cpp:4052: error: (-215:Assertion failed) !ssize.empty() in function 'resize'\n",
     "output_type": "error",
     "traceback": [
      "\u001b[0;31m---------------------------------------------------------------------------\u001b[0m",
      "\u001b[0;31merror\u001b[0m                                     Traceback (most recent call last)",
      "Cell \u001b[0;32mIn [6], line 20\u001b[0m\n\u001b[1;32m     18\u001b[0m \u001b[39mwhile\u001b[39;00m \u001b[39mTrue\u001b[39;00m:\n\u001b[1;32m     19\u001b[0m     ret, frame \u001b[39m=\u001b[39m video\u001b[39m.\u001b[39mread()\n\u001b[0;32m---> 20\u001b[0m     frame \u001b[39m=\u001b[39m cv2\u001b[39m.\u001b[39mresize(frame, [frame_width\u001b[39m/\u001b[39m\u001b[39m/\u001b[39m\u001b[39m2\u001b[39m, frame_height\u001b[39m/\u001b[39m\u001b[39m/\u001b[39m\u001b[39m2\u001b[39m])\n\u001b[1;32m     21\u001b[0m     \u001b[39mif\u001b[39;00m \u001b[39mnot\u001b[39;00m ret:\n\u001b[1;32m     22\u001b[0m         \u001b[39mprint\u001b[39m(\u001b[39m'\u001b[39m\u001b[39msomething went wrong\u001b[39m\u001b[39m'\u001b[39m)\n",
      "\u001b[0;31merror\u001b[0m: OpenCV(4.5.5) /io/opencv/modules/imgproc/src/resize.cpp:4052: error: (-215:Assertion failed) !ssize.empty() in function 'resize'\n"
     ]
    }
   ],
   "source": [
    "# Get the video file and read it\n",
    "video = cv2.VideoCapture(\"MOT17-13-SDP.mp4\")\n",
    "ret, frame = video.read()\n",
    "\n",
    "frame_height, frame_width = frame.shape[:2]\n",
    "# Resize the video for a more convinient view\n",
    "frame = cv2.resize(frame, [frame_width//2, frame_height//2])\n",
    "# Initialize video writer to save the results\n",
    "output = cv2.VideoWriter(f'{tracker_type}.avi', \n",
    "                         cv2.VideoWriter_fourcc(*'XVID'), 60.0, \n",
    "                         (frame_width//2, frame_height//2), True)\n",
    "if not ret:\n",
    "    print('cannot read the video')\n",
    "# Select the bounding box in the first frame\n",
    "bbox = cv2.selectROI(frame, False)\n",
    "ret = tracker.init(frame, bbox)\n",
    "# Start tracking\n",
    "while True:\n",
    "    ret, frame = video.read()\n",
    "    frame = cv2.resize(frame, [frame_width//2, frame_height//2])\n",
    "    if not ret:\n",
    "        print('something went wrong')\n",
    "        break\n",
    "    timer = cv2.getTickCount()\n",
    "    ret, bbox = tracker.update(frame)\n",
    "    fps = cv2.getTickFrequency() / (cv2.getTickCount() - timer)\n",
    "    if ret:\n",
    "        p1 = (int(bbox[0]), int(bbox[1]))\n",
    "        p2 = (int(bbox[0] + bbox[2]), int(bbox[1] + bbox[3]))\n",
    "        cv2.rectangle(frame, p1, p2, (255,0,0), 2, 1)\n",
    "    else:\n",
    "        cv2.putText(frame, \"Tracking failure detected\", (100,80), \n",
    "                    cv2.FONT_HERSHEY_SIMPLEX, 0.75,(0,0,255),2)\n",
    "    cv2.putText(frame, tracker_type + \" Tracker\", (100,20), \n",
    "                cv2.FONT_HERSHEY_SIMPLEX, 0.75, (50,170,50),2)\n",
    "    cv2.putText(frame, \"FPS : \" + str(int(fps)), (100,50), \n",
    "                cv2.FONT_HERSHEY_SIMPLEX, 0.75, (50,170,50),2)\n",
    "    cv2.imshow(\"Tracking\", frame)\n",
    "    output.write(frame)\n",
    "    k = cv2.waitKey(1) & 0xff\n",
    "    if k == 27 : break\n",
    "        \n",
    "video.release()\n",
    "output.release()\n",
    "cv2.destroyAllWindows()"
   ]
  }
 ],
 "metadata": {
  "kernelspec": {
   "display_name": "Python 3.10.6 64-bit",
   "language": "python",
   "name": "python3"
  },
  "language_info": {
   "codemirror_mode": {
    "name": "ipython",
    "version": 3
   },
   "file_extension": ".py",
   "mimetype": "text/x-python",
   "name": "python",
   "nbconvert_exporter": "python",
   "pygments_lexer": "ipython3",
   "version": "3.10.6"
  },
  "orig_nbformat": 4,
  "vscode": {
   "interpreter": {
    "hash": "916dbcbb3f70747c44a77c7bcd40155683ae19c65e1c03b4aa3499c5328201f1"
   }
  }
 },
 "nbformat": 4,
 "nbformat_minor": 2
}
