{
 "cells": [
  {
   "cell_type": "markdown",
   "metadata": {},
   "source": [
    "## Özel Benzer Özellikler ile Nesne Algılama (Object Detection with Custom Cascade)\n",
    "- Bir veri seti ile özel benzer özellikler oluşturacağız ve bunları nesne tespitinde kullanacağız "
   ]
  },
  {
   "cell_type": "markdown",
   "metadata": {},
   "source": [
    "- 1 - Veri Seti Oluşturma (Creating the Dataset)\n",
    "    - Veri seti içinde negatif ve pozitif örnekler olacak, Pozitif resim bizim tespit etmek istediğimiz obje.\n",
    "- 2 - Cascade Programı indir.\n",
    "- 3 - Program yardımıyla cascade oluştur.\n",
    "- 4 - Cascade ile nesne tespiti yap."
   ]
  },
  {
   "cell_type": "code",
   "execution_count": null,
   "metadata": {},
   "outputs": [],
   "source": []
  }
 ],
 "metadata": {
  "kernelspec": {
   "display_name": "Python 3.10.6 64-bit",
   "language": "python",
   "name": "python3"
  },
  "language_info": {
   "name": "python",
   "version": "3.10.6"
  },
  "orig_nbformat": 4,
  "vscode": {
   "interpreter": {
    "hash": "916dbcbb3f70747c44a77c7bcd40155683ae19c65e1c03b4aa3499c5328201f1"
   }
  }
 },
 "nbformat": 4,
 "nbformat_minor": 2
}
